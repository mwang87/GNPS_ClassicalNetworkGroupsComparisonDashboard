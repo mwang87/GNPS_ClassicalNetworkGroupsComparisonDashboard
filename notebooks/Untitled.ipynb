{
 "cells": [
  {
   "cell_type": "code",
   "execution_count": 1,
   "metadata": {},
   "outputs": [],
   "source": [
    "from upsetplot import generate_counts\n",
    "from upsetplot import from_memberships"
   ]
  },
  {
   "cell_type": "code",
   "execution_count": 2,
   "metadata": {},
   "outputs": [],
   "source": [
    "example = generate_counts()"
   ]
  },
  {
   "cell_type": "code",
   "execution_count": 7,
   "metadata": {},
   "outputs": [
    {
     "data": {
      "text/plain": [
       "cat0   cat1   cat2 \n",
       "False  False  False      56\n",
       "              True      283\n",
       "       True   False    1279\n",
       "              True     5882\n",
       "True   False  False      24\n",
       "              True       90\n",
       "       True   False     429\n",
       "              True     1957\n",
       "Name: value, dtype: int64"
      ]
     },
     "execution_count": 7,
     "metadata": {},
     "output_type": "execute_result"
    }
   ],
   "source": [
    "example"
   ]
  },
  {
   "cell_type": "code",
   "execution_count": 8,
   "metadata": {},
   "outputs": [
    {
     "data": {
      "text/plain": [
       "{(False, False, False): 56,\n",
       " (False, False, True): 283,\n",
       " (False, True, False): 1279,\n",
       " (False, True, True): 5882,\n",
       " (True, False, False): 24,\n",
       " (True, False, True): 90,\n",
       " (True, True, False): 429,\n",
       " (True, True, True): 1957}"
      ]
     },
     "execution_count": 8,
     "metadata": {},
     "output_type": "execute_result"
    }
   ],
   "source": [
    "example.to_dict()"
   ]
  },
  {
   "cell_type": "code",
   "execution_count": 1,
   "metadata": {},
   "outputs": [],
   "source": [
    "import pandas as pd\n",
    "url = \"https://gnps.ucsd.edu/ProteoSAFe/DownloadResultFile?task=62b32c4c5fd440a4802088da0d48b07c&file=clusterinfosummarygroup_attributes_withIDs_withcomponentID/\"\n",
    "\n",
    "df = pd.read_csv(url, sep=\"\\t\")"
   ]
  },
  {
   "cell_type": "code",
   "execution_count": 4,
   "metadata": {},
   "outputs": [
    {
     "data": {
      "text/plain": [
       "['AllGroups',\n",
       " 'DefaultGroups',\n",
       " 'EvenOdd',\n",
       " 'G1',\n",
       " 'G2',\n",
       " 'G3',\n",
       " 'G4',\n",
       " 'G5',\n",
       " 'G6',\n",
       " 'GNPSLinkout_Cluster',\n",
       " 'GNPSLinkout_Network',\n",
       " 'LibraryID',\n",
       " 'MQScore',\n",
       " 'MZErrorPPM',\n",
       " 'MassDiff',\n",
       " 'RTMean',\n",
       " 'RTStdErr',\n",
       " 'Smiles',\n",
       " 'SpectrumID',\n",
       " 'UniqueFileSources',\n",
       " 'UniqueFileSourcesCount',\n",
       " 'cluster index',\n",
       " 'componentindex',\n",
       " 'number of spectra',\n",
       " 'parent mass',\n",
       " 'precursor charge',\n",
       " 'precursor mass',\n",
       " 'sum(precursor intensity)']"
      ]
     },
     "execution_count": 4,
     "metadata": {},
     "output_type": "execute_result"
    }
   ],
   "source": [
    "df.columns.to_list()\n",
    "#df[\"ATTRIBUTE_OrganismID\"]"
   ]
  },
  {
   "cell_type": "code",
   "execution_count": 9,
   "metadata": {},
   "outputs": [
    {
     "data": {
      "text/plain": [
       "['G1', 'G1', 'G1', 'G1', 'G1']"
      ]
     },
     "execution_count": 9,
     "metadata": {},
     "output_type": "execute_result"
    }
   ],
   "source": [
    "df[\"DefaultGroups\"].head().to_list()"
   ]
  },
  {
   "cell_type": "code",
   "execution_count": null,
   "metadata": {},
   "outputs": [],
   "source": []
  }
 ],
 "metadata": {
  "kernelspec": {
   "display_name": "Python 3",
   "language": "python",
   "name": "python3"
  },
  "language_info": {
   "codemirror_mode": {
    "name": "ipython",
    "version": 3
   },
   "file_extension": ".py",
   "mimetype": "text/x-python",
   "name": "python",
   "nbconvert_exporter": "python",
   "pygments_lexer": "ipython3",
   "version": "3.7.6"
  }
 },
 "nbformat": 4,
 "nbformat_minor": 4
}
